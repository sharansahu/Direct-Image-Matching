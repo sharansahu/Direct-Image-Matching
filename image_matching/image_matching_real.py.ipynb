{
 "cells": [
  {
   "cell_type": "code",
   "execution_count": null,
   "metadata": {},
   "outputs": [],
   "source": [
    "conda install opencv"
   ]
  },
  {
   "cell_type": "code",
   "execution_count": 1,
   "metadata": {},
   "outputs": [],
   "source": [
    "import cv2\n",
    "import glob, os\n",
    "import numpy as np\n",
    "\n",
    "image = cv2.imread(\"/Users/sunnysahu/Desktop/composite.jpg\")\n",
    "gray = cv2.cvtColor(image, cv2.COLOR_BGR2GRAY)\n",
    "h, w = gray.shape[:2]\n",
    "for file in glob.glob(\"/Users/sunnysahu/Desktop/template_small.png\"):\n",
    "    template = cv2.imread(file)\n",
    "    template = cv2.cvtColor(template, cv2.COLOR_BGR2GRAY)\n",
    "    found = None\n",
    "    (tH, tW) = template.shape[:2]\n",
    "    # cv2.imshow(\"Template\", template)\n",
    "\n",
    "    tEdged = cv2.Canny(template, 50, 200)\n",
    "\n",
    "    for scale in np.linspace(1, 2, 20):\n",
    "        # resized = imutils.resize(gray, width=int(gray.shape[1] * scale))\n",
    "        resized = cv2.resize(gray, dsize = (0,0), fx = scale, fy = scale)\n",
    "\n",
    "        r = gray.shape[1] / float(resized.shape[1])\n",
    "\n",
    "        if resized.shape[0] < tH or resized.shape[1] < tW:\n",
    "            break\n",
    "        edged = cv2.Canny(resized, 50, 200)\n",
    "        result = cv2.matchTemplate(edged, tEdged, cv2.TM_CCOEFF)\n",
    "        (_, maxVal, _, maxLoc) = cv2.minMaxLoc(result)\n",
    "\n",
    "        if found is None or maxVal > found[0]:\n",
    "            found = (maxVal, maxLoc, r)\n",
    "\n",
    "    (_, maxLoc, r) = found\n",
    "    (startX, startY) = (int(maxLoc[0] * r), int(maxLoc[1] * r))\n",
    "    (endX, endY) = (int((maxLoc[0] + tW) * r), int((maxLoc[1] + tH) * r))\n",
    "    cv2.rectangle(image, (startX, startY), (endX, endY), (0, 0, 255), 2)\n",
    "\n",
    "    cv2.imshow(\"Image\", image)\n",
    "    cv2.imwrite('output.jpg', image)\n",
    "    cv2.waitKey(0)\n",
    "    cv2.destroyAllWindows()"
   ]
  }
 ],
 "metadata": {
  "kernelspec": {
   "display_name": "Python 3",
   "language": "python",
   "name": "python3"
  },
  "language_info": {
   "codemirror_mode": {
    "name": "ipython",
    "version": 3
   },
   "file_extension": ".py",
   "mimetype": "text/x-python",
   "name": "python",
   "nbconvert_exporter": "python",
   "pygments_lexer": "ipython3",
   "version": "3.7.4"
  }
 },
 "nbformat": 4,
 "nbformat_minor": 2
}
